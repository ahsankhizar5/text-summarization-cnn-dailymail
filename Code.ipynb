{
  "nbformat": 4,
  "nbformat_minor": 0,
  "metadata": {
    "colab": {
      "provenance": []
    },
    "kernelspec": {
      "name": "python3",
      "display_name": "Python 3"
    },
    "language_info": {
      "name": "python"
    }
  },
  "cells": [
    {
      "cell_type": "markdown",
      "source": [
        "# Task 2: Text Summarization\n",
        "\n",
        "## Objective\n",
        "Create a system that summarizes lengthy articles, blogs, or news into concise summaries.  \n",
        "I will implement both extractive and abstractive summarization methods.\n",
        "\n",
        "## Dataset\n",
        "I use the CNN/DailyMail dataset (version 3.0.0) which contains news articles and human-written summaries (highlights).  \n",
        "For speed, we will load only the first 100 articles.\n",
        "\n",
        "---\n",
        "\n",
        "## Setup & Installation\n",
        "\n",
        "```python\n",
        "# Install required libraries\n",
        "!pip install datasets transformers[sentencepiece] spacy --quiet\n",
        "!python -m spacy download en_core_web_sm --quiet\n"
      ],
      "metadata": {
        "id": "tIV0AQGmABcM"
      }
    },
    {
      "cell_type": "markdown",
      "source": [
        "#Load Dataset\n"
      ],
      "metadata": {
        "id": "CPtiucXbAU6-"
      }
    },
    {
      "cell_type": "code",
      "source": [
        "from datasets import load_dataset\n",
        "\n",
        "# Load first 100 samples from train split of CNN/DailyMail dataset\n",
        "dataset = load_dataset(\"cnn_dailymail\", \"3.0.0\", split=\"train[:100]\")\n",
        "\n",
        "# Print sample article and summary\n",
        "print(\"Sample article:\\n\", dataset[0]['article'][:500], \"...\\n\")\n",
        "print(\"Reference summary:\\n\", dataset[0]['highlights'])\n"
      ],
      "metadata": {
        "colab": {
          "base_uri": "https://localhost:8080/"
        },
        "id": "CIRYqxPGAJYh",
        "outputId": "0d83e364-fca6-460f-ea61-814323a3e23a"
      },
      "execution_count": 5,
      "outputs": [
        {
          "output_type": "stream",
          "name": "stdout",
          "text": [
            "Sample article:\n",
            " LONDON, England (Reuters) -- Harry Potter star Daniel Radcliffe gains access to a reported £20 million ($41.1 million) fortune as he turns 18 on Monday, but he insists the money won't cast a spell on him. Daniel Radcliffe as Harry Potter in \"Harry Potter and the Order of the Phoenix\" To the disappointment of gossip columnists around the world, the young actor says he has no plans to fritter his cash away on fast cars, drink and celebrity parties. \"I don't plan to be one of those people who, as s ...\n",
            "\n",
            "Reference summary:\n",
            " Harry Potter star Daniel Radcliffe gets £20M fortune as he turns 18 Monday .\n",
            "Young actor says he has no plans to fritter his cash away .\n",
            "Radcliffe's earnings from first five Potter films have been held in trust fund .\n"
          ]
        }
      ]
    },
    {
      "cell_type": "markdown",
      "source": [
        "#Extractive Summarization\n",
        "Extractive summarization picks key sentences based on word frequency."
      ],
      "metadata": {
        "id": "Dh4fBDV4Aj6t"
      }
    },
    {
      "cell_type": "code",
      "source": [
        "import spacy\n",
        "from heapq import nlargest\n",
        "\n",
        "nlp = spacy.load(\"en_core_web_sm\")\n",
        "\n",
        "def extractive_summary(text, max_sentences=3):\n",
        "    doc = nlp(text)\n",
        "    stopwords = spacy.lang.en.stop_words.STOP_WORDS\n",
        "\n",
        "    # Calculate word frequencies ignoring stopwords and non-alphabetic tokens\n",
        "    word_freq = {}\n",
        "    for word in doc:\n",
        "        if word.text.lower() not in stopwords and word.is_alpha:\n",
        "            word_freq[word.text.lower()] = word_freq.get(word.text.lower(), 0) + 1\n",
        "\n",
        "    max_freq = max(word_freq.values()) if word_freq else 1\n",
        "    for word in word_freq:\n",
        "        word_freq[word] /= max_freq\n",
        "\n",
        "    # Score sentences based on word frequencies\n",
        "    sentence_scores = {}\n",
        "    for sent in doc.sents:\n",
        "        for word in sent:\n",
        "            if word.text.lower() in word_freq:\n",
        "                sentence_scores[sent] = sentence_scores.get(sent, 0) + word_freq[word.text.lower()]\n",
        "\n",
        "    # Pick the top sentences as summary\n",
        "    summary_sentences = nlargest(max_sentences, sentence_scores, key=sentence_scores.get)\n",
        "    return \" \".join([sent.text for sent in summary_sentences])\n"
      ],
      "metadata": {
        "id": "J8cr_E1gAnEU"
      },
      "execution_count": 7,
      "outputs": []
    },
    {
      "cell_type": "markdown",
      "source": [
        "#Abstractive Summarization\n",
        "Abstractive summarization generates new sentences that capture the meaning of the text."
      ],
      "metadata": {
        "id": "_N8UoT9KAvqk"
      }
    },
    {
      "cell_type": "code",
      "source": [
        "from transformers import pipeline\n",
        "\n",
        "# Load pre-trained BART summarization model\n",
        "summarizer = pipeline(\"summarization\", model=\"facebook/bart-large-cnn\")\n",
        "\n",
        "def abstractive_summary(text):\n",
        "    summary = summarizer(text, max_length=130, min_length=30, do_sample=False)\n",
        "    return summary[0]['summary_text']\n"
      ],
      "metadata": {
        "colab": {
          "base_uri": "https://localhost:8080/"
        },
        "id": "eU4p9UT-AyCG",
        "outputId": "b87f2726-7670-49c5-8a07-e2cfbf17467f"
      },
      "execution_count": 8,
      "outputs": [
        {
          "output_type": "stream",
          "name": "stderr",
          "text": [
            "Device set to use cpu\n"
          ]
        }
      ]
    },
    {
      "cell_type": "markdown",
      "source": [
        "#Run Summarization on Sample Article"
      ],
      "metadata": {
        "id": "4mq08yajA5Rz"
      }
    },
    {
      "cell_type": "code",
      "source": [
        "article = dataset[0]['article']\n",
        "reference_summary = dataset[0]['highlights']\n",
        "\n",
        "print(\"=== Original Article ===\")\n",
        "print(article[:1000], \"\\n\")  # Print first 1000 characters\n",
        "\n",
        "print(\"=== Extractive Summary ===\")\n",
        "print(extractive_summary(article), \"\\n\")\n",
        "\n",
        "print(\"=== Abstractive Summary ===\")\n",
        "print(abstractive_summary(article), \"\\n\")\n",
        "\n",
        "print(\"=== Reference Summary ===\")\n",
        "print(reference_summary)\n"
      ],
      "metadata": {
        "colab": {
          "base_uri": "https://localhost:8080/"
        },
        "id": "2u_aX_0qA8Cf",
        "outputId": "9ed85d61-2679-4e2a-c2f5-91faa95006fb"
      },
      "execution_count": 9,
      "outputs": [
        {
          "output_type": "stream",
          "name": "stdout",
          "text": [
            "=== Original Article ===\n",
            "LONDON, England (Reuters) -- Harry Potter star Daniel Radcliffe gains access to a reported £20 million ($41.1 million) fortune as he turns 18 on Monday, but he insists the money won't cast a spell on him. Daniel Radcliffe as Harry Potter in \"Harry Potter and the Order of the Phoenix\" To the disappointment of gossip columnists around the world, the young actor says he has no plans to fritter his cash away on fast cars, drink and celebrity parties. \"I don't plan to be one of those people who, as soon as they turn 18, suddenly buy themselves a massive sports car collection or something similar,\" he told an Australian interviewer earlier this month. \"I don't think I'll be particularly extravagant. \"The things I like buying are things that cost about 10 pounds -- books and CDs and DVDs.\" At 18, Radcliffe will be able to gamble in a casino, buy a drink in a pub or see the horror film \"Hostel: Part II,\" currently six places below his number one movie on the UK box office chart. Details of how \n",
            "\n",
            "=== Extractive Summary ===\n",
            "Daniel Radcliffe as Harry Potter in \"Harry Potter and the Order of the Phoenix\" To the disappointment of gossip columnists around the world, the young actor says he has no plans to fritter his cash away on fast cars, drink and celebrity parties. LONDON, England (Reuters) -- Harry Potter star Daniel Radcliffe gains access to a reported £20 million ($41.1 million) fortune as he turns 18 on Monday, but he insists the money won't cast a spell on him. His latest outing as the boy wizard in \"Harry Potter and the Order of the Phoenix\" is breaking records on both sides of the Atlantic and he will reprise the role in the last two films.   \n",
            "\n",
            "=== Abstractive Summary ===\n",
            "Harry Potter star Daniel Radcliffe turns 18 on Monday. He gains access to a reported £20 million ($41.1 million) fortune. Radcliffe's earnings from the first five Potter films have been held in a trust fund. \n",
            "\n",
            "=== Reference Summary ===\n",
            "Harry Potter star Daniel Radcliffe gets £20M fortune as he turns 18 Monday .\n",
            "Young actor says he has no plans to fritter his cash away .\n",
            "Radcliffe's earnings from first five Potter films have been held in trust fund .\n"
          ]
        }
      ]
    }
  ]
}